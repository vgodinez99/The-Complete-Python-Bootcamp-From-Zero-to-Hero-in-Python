{
 "cells": [
  {
   "cell_type": "markdown",
   "id": "4f52cc38-f30f-44c0-9eea-cd4fe71b67d5",
   "metadata": {},
   "source": [
    "First Code"
   ]
  },
  {
   "cell_type": "code",
   "execution_count": 3,
   "id": "e6dcd6a1-1369-4f92-8441-d4073d18d48f",
   "metadata": {},
   "outputs": [
    {
     "data": {
      "text/plain": [
       "2"
      ]
     },
     "execution_count": 3,
     "metadata": {},
     "output_type": "execute_result"
    }
   ],
   "source": [
    "1+1 #Shift + Enter"
   ]
  },
  {
   "cell_type": "code",
   "execution_count": null,
   "id": "09bcb62f-4909-497b-ae1d-388441633da9",
   "metadata": {},
   "outputs": [],
   "source": []
  }
 ],
 "metadata": {
  "kernelspec": {
   "display_name": "Python 3 (ipykernel)",
   "language": "python",
   "name": "python3"
  },
  "language_info": {
   "codemirror_mode": {
    "name": "ipython",
    "version": 3
   },
   "file_extension": ".py",
   "mimetype": "text/x-python",
   "name": "python",
   "nbconvert_exporter": "python",
   "pygments_lexer": "ipython3",
   "version": "3.9.12"
  }
 },
 "nbformat": 4,
 "nbformat_minor": 5
}
