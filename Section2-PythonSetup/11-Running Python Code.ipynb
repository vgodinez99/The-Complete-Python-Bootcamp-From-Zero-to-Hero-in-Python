{
 "cells": [
  {
   "cell_type": "markdown",
   "id": "46c74de2-073d-4b1a-8a4c-319c46c66f04",
   "metadata": {},
   "source": [
    "I can type normal text"
   ]
  },
  {
   "cell_type": "code",
   "execution_count": 1,
   "id": "243eb32c-946a-4237-90e6-bf7a9f709ebf",
   "metadata": {},
   "outputs": [
    {
     "name": "stdout",
     "output_type": "stream",
     "text": [
      "Hello world\n"
     ]
    }
   ],
   "source": [
    "print('Hello world')"
   ]
  },
  {
   "cell_type": "code",
   "execution_count": 2,
   "id": "9cee7e1f-cdf9-4deb-ac94-20c2c3c57445",
   "metadata": {},
   "outputs": [
    {
     "name": "stdout",
     "output_type": "stream",
     "text": [
      "New line\n"
     ]
    }
   ],
   "source": [
    "print('New line')"
   ]
  }
 ],
 "metadata": {
  "kernelspec": {
   "display_name": "Python 3 (ipykernel)",
   "language": "python",
   "name": "python3"
  },
  "language_info": {
   "codemirror_mode": {
    "name": "ipython",
    "version": 3
   },
   "file_extension": ".py",
   "mimetype": "text/x-python",
   "name": "python",
   "nbconvert_exporter": "python",
   "pygments_lexer": "ipython3",
   "version": "3.9.12"
  }
 },
 "nbformat": 4,
 "nbformat_minor": 5
}
