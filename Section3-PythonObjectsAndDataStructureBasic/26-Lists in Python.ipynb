{
 "cells": [
  {
   "cell_type": "markdown",
   "id": "e2d65d7c-ce48-45a1-9540-331ab2a8178e",
   "metadata": {},
   "source": [
    "# Lists in Python"
   ]
  },
  {
   "cell_type": "code",
   "execution_count": 1,
   "id": "af3cfd5f-769a-4f21-9f91-a651ce963533",
   "metadata": {},
   "outputs": [],
   "source": [
    "my_list = [1,2,3]"
   ]
  },
  {
   "cell_type": "code",
   "execution_count": 2,
   "id": "ce9d4699-fe4d-407c-b563-e099c38cb527",
   "metadata": {},
   "outputs": [],
   "source": [
    "my_list2 = [1,'Victor',1.3]"
   ]
  },
  {
   "cell_type": "code",
   "execution_count": 4,
   "id": "2a3845af-2c90-4a52-89a5-f1f42252dbef",
   "metadata": {},
   "outputs": [
    {
     "name": "stdout",
     "output_type": "stream",
     "text": [
      "3\n"
     ]
    }
   ],
   "source": [
    "print(len(my_list))"
   ]
  },
  {
   "cell_type": "code",
   "execution_count": 5,
   "id": "9d2fcfc7-882e-4c7c-b9c4-af90aa348fab",
   "metadata": {},
   "outputs": [],
   "source": [
    "myList = ['one','two','three']"
   ]
  },
  {
   "cell_type": "code",
   "execution_count": 6,
   "id": "dc36e0e3-cdd7-4bfe-989f-cf575febaf93",
   "metadata": {},
   "outputs": [
    {
     "name": "stdout",
     "output_type": "stream",
     "text": [
      "one\n"
     ]
    }
   ],
   "source": [
    "print(myList[0])"
   ]
  },
  {
   "cell_type": "code",
   "execution_count": 7,
   "id": "a58af83b-1986-4b93-839b-34d279777e75",
   "metadata": {},
   "outputs": [
    {
     "name": "stdout",
     "output_type": "stream",
     "text": [
      "['two', 'three']\n"
     ]
    }
   ],
   "source": [
    "print(myList[1:])"
   ]
  },
  {
   "cell_type": "code",
   "execution_count": 8,
   "id": "ed49ca6e-6fc7-4536-bb4f-a77248f88652",
   "metadata": {},
   "outputs": [],
   "source": [
    "another_list = myList + my_list"
   ]
  },
  {
   "cell_type": "code",
   "execution_count": 9,
   "id": "80d17172-5649-4b48-8bb7-0c77bf6819f1",
   "metadata": {},
   "outputs": [
    {
     "name": "stdout",
     "output_type": "stream",
     "text": [
      "['one', 'two', 'three', 1, 2, 3]\n"
     ]
    }
   ],
   "source": [
    "print(another_list)"
   ]
  },
  {
   "cell_type": "code",
   "execution_count": 10,
   "id": "3338834d-913c-404c-8072-bec72c4331d6",
   "metadata": {},
   "outputs": [],
   "source": [
    "another_list[0] = 'ONE ALL CAPS'"
   ]
  },
  {
   "cell_type": "code",
   "execution_count": 11,
   "id": "ad0bc791-33f2-4d18-9c77-92e8e9e87372",
   "metadata": {},
   "outputs": [
    {
     "name": "stdout",
     "output_type": "stream",
     "text": [
      "['ONE ALL CAPS', 'two', 'three', 1, 2, 3]\n"
     ]
    }
   ],
   "source": [
    "print(another_list)"
   ]
  },
  {
   "cell_type": "code",
   "execution_count": 14,
   "id": "a6b593fa-5b8a-4d28-a779-a8702da291e3",
   "metadata": {},
   "outputs": [],
   "source": [
    "#Add new thing to the end of the list\n",
    "another_list.append('six')"
   ]
  },
  {
   "cell_type": "code",
   "execution_count": 13,
   "id": "db7655ed-597a-4ef6-b919-e2fc7a3a413d",
   "metadata": {},
   "outputs": [
    {
     "name": "stdout",
     "output_type": "stream",
     "text": [
      "['ONE ALL CAPS', 'two', 'three', 1, 2, 3, 'six']\n"
     ]
    }
   ],
   "source": [
    "print(another_list)"
   ]
  },
  {
   "cell_type": "code",
   "execution_count": 15,
   "id": "b739940a-3261-4241-90cb-3b16b7749537",
   "metadata": {},
   "outputs": [
    {
     "data": {
      "text/plain": [
       "'six'"
      ]
     },
     "execution_count": 15,
     "metadata": {},
     "output_type": "execute_result"
    }
   ],
   "source": [
    "#Delete the last thing of the list\n",
    "another_list.pop()"
   ]
  },
  {
   "cell_type": "code",
   "execution_count": 16,
   "id": "79770546-d388-4983-9922-e60c98617459",
   "metadata": {},
   "outputs": [
    {
     "name": "stdout",
     "output_type": "stream",
     "text": [
      "['ONE ALL CAPS', 'two', 'three', 1, 2, 3, 'six']\n"
     ]
    }
   ],
   "source": [
    "print(another_list)"
   ]
  },
  {
   "cell_type": "code",
   "execution_count": 17,
   "id": "2f6da3fa-5c5b-4f0d-aa29-0a811596da0e",
   "metadata": {},
   "outputs": [
    {
     "data": {
      "text/plain": [
       "'three'"
      ]
     },
     "execution_count": 17,
     "metadata": {},
     "output_type": "execute_result"
    }
   ],
   "source": [
    "#Delete of any position on the list\n",
    "another_list.pop(2)"
   ]
  },
  {
   "cell_type": "code",
   "execution_count": 18,
   "id": "f4f071ee-8afc-4196-a98b-c68024018e28",
   "metadata": {},
   "outputs": [
    {
     "name": "stdout",
     "output_type": "stream",
     "text": [
      "['ONE ALL CAPS', 'two', 1, 2, 3, 'six']\n"
     ]
    }
   ],
   "source": [
    "print(another_list)"
   ]
  },
  {
   "cell_type": "code",
   "execution_count": 19,
   "id": "7ffc22a2-ad96-4226-bbde-cd2e4ab84f61",
   "metadata": {},
   "outputs": [],
   "source": [
    "lList = ['a','i','u','e','o']\n",
    "nList = [1,3,5,6,2]"
   ]
  },
  {
   "cell_type": "code",
   "execution_count": 23,
   "id": "b2e99f08-4706-4976-b8ba-9a024a67054a",
   "metadata": {},
   "outputs": [],
   "source": [
    "#This not return any object, the list is sorted\n",
    "lList.sort()"
   ]
  },
  {
   "cell_type": "code",
   "execution_count": 22,
   "id": "85d5dad6-957c-4808-a0f1-eb1f6e13dae7",
   "metadata": {},
   "outputs": [
    {
     "name": "stdout",
     "output_type": "stream",
     "text": [
      "['a', 'e', 'i', 'o', 'u']\n"
     ]
    }
   ],
   "source": [
    "print(lList)"
   ]
  },
  {
   "cell_type": "code",
   "execution_count": 24,
   "id": "4f5183ba-97e6-428b-a242-058a2df126fd",
   "metadata": {},
   "outputs": [],
   "source": [
    "nList.sort()"
   ]
  },
  {
   "cell_type": "code",
   "execution_count": 25,
   "id": "7f33232e-468e-4326-994b-df80ddc84852",
   "metadata": {},
   "outputs": [
    {
     "name": "stdout",
     "output_type": "stream",
     "text": [
      "[1, 2, 3, 5, 6]\n"
     ]
    }
   ],
   "source": [
    "print(nList)"
   ]
  },
  {
   "cell_type": "code",
   "execution_count": 34,
   "id": "872b9f70-c87f-42e0-9a6d-3904a60e6cbf",
   "metadata": {},
   "outputs": [],
   "source": [
    "lList.reverse()\n",
    "nList.reverse()"
   ]
  },
  {
   "cell_type": "code",
   "execution_count": 35,
   "id": "cf6c1845-65ac-44c4-85d4-1db2671fc3ce",
   "metadata": {},
   "outputs": [
    {
     "name": "stdout",
     "output_type": "stream",
     "text": [
      "['u', 'o', 'i', 'e', 'a']\n",
      "[6, 5, 3, 2, 1]\n"
     ]
    }
   ],
   "source": [
    "print(lList)\n",
    "print(nList)"
   ]
  },
  {
   "cell_type": "code",
   "execution_count": null,
   "id": "54c35e1f-cc73-494f-8c7c-aa4d716fc1e2",
   "metadata": {},
   "outputs": [],
   "source": []
  }
 ],
 "metadata": {
  "kernelspec": {
   "display_name": "Python 3 (ipykernel)",
   "language": "python",
   "name": "python3"
  },
  "language_info": {
   "codemirror_mode": {
    "name": "ipython",
    "version": 3
   },
   "file_extension": ".py",
   "mimetype": "text/x-python",
   "name": "python",
   "nbconvert_exporter": "python",
   "pygments_lexer": "ipython3",
   "version": "3.9.12"
  }
 },
 "nbformat": 4,
 "nbformat_minor": 5
}
