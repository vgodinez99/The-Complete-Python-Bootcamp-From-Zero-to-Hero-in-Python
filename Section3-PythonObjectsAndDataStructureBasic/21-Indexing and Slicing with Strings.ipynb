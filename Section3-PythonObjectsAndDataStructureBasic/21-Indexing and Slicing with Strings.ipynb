{
 "cells": [
  {
   "cell_type": "markdown",
   "id": "14026892-0d2c-42f9-a78c-3e993a7390f6",
   "metadata": {},
   "source": [
    "# Indexing and Slicing with Strings"
   ]
  },
  {
   "cell_type": "code",
   "execution_count": null,
   "id": "77ce01a0-6e16-4c3f-b551-2ab578a526cc",
   "metadata": {},
   "outputs": [],
   "source": []
  }
 ],
 "metadata": {
  "kernelspec": {
   "display_name": "Python 3 (ipykernel)",
   "language": "python",
   "name": "python3"
  },
  "language_info": {
   "codemirror_mode": {
    "name": "ipython",
    "version": 3
   },
   "file_extension": ".py",
   "mimetype": "text/x-python",
   "name": "python",
   "nbconvert_exporter": "python",
   "pygments_lexer": "ipython3",
   "version": "3.9.12"
  }
 },
 "nbformat": 4,
 "nbformat_minor": 5
}
