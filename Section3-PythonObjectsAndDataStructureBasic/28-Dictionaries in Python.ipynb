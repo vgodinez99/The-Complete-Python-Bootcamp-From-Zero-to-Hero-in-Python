{
 "cells": [
  {
   "cell_type": "markdown",
   "id": "1375a02a-1941-4a83-815e-279f421bca8f",
   "metadata": {},
   "source": [
    "# Dictionaries in Python"
   ]
  },
  {
   "cell_type": "code",
   "execution_count": 1,
   "id": "ac588f95-4104-4757-8788-8c32b79fb86d",
   "metadata": {},
   "outputs": [],
   "source": [
    "myDict = {'key1':'value1','key2':'value2','key3':'value3'}"
   ]
  },
  {
   "cell_type": "code",
   "execution_count": 3,
   "id": "5d583f80-027a-49cf-b494-15a08055843a",
   "metadata": {},
   "outputs": [
    {
     "name": "stdout",
     "output_type": "stream",
     "text": [
      "value1\n",
      "value3\n"
     ]
    }
   ],
   "source": [
    "print(myDict['key1'])\n",
    "print(myDict['key3'])"
   ]
  },
  {
   "cell_type": "code",
   "execution_count": 4,
   "id": "5cd9c8ca-66b5-46e3-8e72-c02b869333c6",
   "metadata": {},
   "outputs": [],
   "source": [
    "prices = {'apple':2.99,'orange':1.99,'milk':2}"
   ]
  },
  {
   "cell_type": "code",
   "execution_count": 5,
   "id": "1c7ece5b-c36c-4b40-b9a5-b0f60bc8ea07",
   "metadata": {},
   "outputs": [
    {
     "name": "stdout",
     "output_type": "stream",
     "text": [
      "2.99\n"
     ]
    }
   ],
   "source": [
    "print(prices['apple'])"
   ]
  },
  {
   "cell_type": "code",
   "execution_count": 6,
   "id": "5c5f5062-4b60-42c1-aa0e-24b4577a2763",
   "metadata": {},
   "outputs": [],
   "source": [
    "d = {'k1':1,'k2':[1,2,3],'k3':{'insideKey':'insideValue'}}"
   ]
  },
  {
   "cell_type": "code",
   "execution_count": 8,
   "id": "761e23b5-2ad9-40a8-a5aa-62edaa8b8293",
   "metadata": {},
   "outputs": [
    {
     "name": "stdout",
     "output_type": "stream",
     "text": [
      "[1, 2, 3]\n"
     ]
    }
   ],
   "source": [
    "print(d['k2'])"
   ]
  },
  {
   "cell_type": "code",
   "execution_count": 9,
   "id": "68bdc103-5802-43f1-9689-734707e8e921",
   "metadata": {},
   "outputs": [
    {
     "name": "stdout",
     "output_type": "stream",
     "text": [
      "{'insideKey': 'insideValue'}\n"
     ]
    }
   ],
   "source": [
    "print(d['k3'])"
   ]
  },
  {
   "cell_type": "code",
   "execution_count": 10,
   "id": "674c4fdb-f81b-4a9b-8348-fc1c40f6002e",
   "metadata": {},
   "outputs": [
    {
     "name": "stdout",
     "output_type": "stream",
     "text": [
      "insideValue\n"
     ]
    }
   ],
   "source": [
    "print(d['k3']['insideKey'])"
   ]
  },
  {
   "cell_type": "code",
   "execution_count": 11,
   "id": "e94c14ad-691c-410d-95ad-a9fed2ceb92f",
   "metadata": {},
   "outputs": [
    {
     "name": "stdout",
     "output_type": "stream",
     "text": [
      "2\n"
     ]
    }
   ],
   "source": [
    "print(d['k2'][1])"
   ]
  },
  {
   "cell_type": "code",
   "execution_count": 12,
   "id": "97c9db0a-426f-47e2-8b78-a21f052cb6b5",
   "metadata": {},
   "outputs": [],
   "source": [
    "dict1 = {'k1':['a','b','c']}"
   ]
  },
  {
   "cell_type": "code",
   "execution_count": 14,
   "id": "322f1ecc-b890-4e22-a61f-745e65c79739",
   "metadata": {},
   "outputs": [],
   "source": [
    "myList = dict1['k1']"
   ]
  },
  {
   "cell_type": "code",
   "execution_count": 15,
   "id": "26a3dc27-ab73-41b7-9793-25c125f8217c",
   "metadata": {},
   "outputs": [],
   "source": [
    "letter = myList[1]"
   ]
  },
  {
   "cell_type": "code",
   "execution_count": 16,
   "id": "2011a0e0-0abb-4672-98b1-27d6cc8e2d74",
   "metadata": {},
   "outputs": [
    {
     "name": "stdout",
     "output_type": "stream",
     "text": [
      "B\n"
     ]
    }
   ],
   "source": [
    "print(letter.upper())"
   ]
  },
  {
   "cell_type": "code",
   "execution_count": 17,
   "id": "c2304737-20bf-41d0-ad2d-64d24f2cfe17",
   "metadata": {},
   "outputs": [],
   "source": [
    "newDict = {'k1':100,'k2':200}"
   ]
  },
  {
   "cell_type": "code",
   "execution_count": 18,
   "id": "83510df2-a5fb-406b-9892-88006ee64857",
   "metadata": {},
   "outputs": [],
   "source": [
    "newDict['k3'] = 300"
   ]
  },
  {
   "cell_type": "code",
   "execution_count": 19,
   "id": "452ca165-f9af-46e2-b902-fa2b1ca74963",
   "metadata": {},
   "outputs": [
    {
     "name": "stdout",
     "output_type": "stream",
     "text": [
      "{'k1': 100, 'k2': 200, 'k3': 300}\n"
     ]
    }
   ],
   "source": [
    "print(newDict)"
   ]
  },
  {
   "cell_type": "code",
   "execution_count": 20,
   "id": "f8b4078a-acd9-4c09-a14f-35623f49b9f1",
   "metadata": {},
   "outputs": [
    {
     "data": {
      "text/plain": [
       "dict_keys(['k1', 'k2', 'k3'])"
      ]
     },
     "execution_count": 20,
     "metadata": {},
     "output_type": "execute_result"
    }
   ],
   "source": [
    "newDict.keys()"
   ]
  },
  {
   "cell_type": "code",
   "execution_count": 21,
   "id": "15dfc272-d9d8-4ba0-b546-08961a5b2abd",
   "metadata": {},
   "outputs": [
    {
     "data": {
      "text/plain": [
       "dict_values([100, 200, 300])"
      ]
     },
     "execution_count": 21,
     "metadata": {},
     "output_type": "execute_result"
    }
   ],
   "source": [
    "newDict.values()"
   ]
  },
  {
   "cell_type": "code",
   "execution_count": 22,
   "id": "78ee0bd4-1a68-4775-b2da-2ad914122650",
   "metadata": {},
   "outputs": [
    {
     "data": {
      "text/plain": [
       "dict_items([('k1', 100), ('k2', 200), ('k3', 300)])"
      ]
     },
     "execution_count": 22,
     "metadata": {},
     "output_type": "execute_result"
    }
   ],
   "source": [
    "newDict.items()"
   ]
  },
  {
   "cell_type": "code",
   "execution_count": null,
   "id": "b4af7ed0-a7aa-4baa-95e5-8fad07d86845",
   "metadata": {},
   "outputs": [],
   "source": []
  }
 ],
 "metadata": {
  "kernelspec": {
   "display_name": "Python 3 (ipykernel)",
   "language": "python",
   "name": "python3"
  },
  "language_info": {
   "codemirror_mode": {
    "name": "ipython",
    "version": 3
   },
   "file_extension": ".py",
   "mimetype": "text/x-python",
   "name": "python",
   "nbconvert_exporter": "python",
   "pygments_lexer": "ipython3",
   "version": "3.9.12"
  }
 },
 "nbformat": 4,
 "nbformat_minor": 5
}
