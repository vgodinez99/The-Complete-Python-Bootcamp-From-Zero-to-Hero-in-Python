{
 "cells": [
  {
   "cell_type": "markdown",
   "id": "e2d65d7c-ce48-45a1-9540-331ab2a8178e",
   "metadata": {},
   "source": [
    "# Lists in Python"
   ]
  },
  {
   "cell_type": "code",
   "execution_count": 1,
   "id": "af3cfd5f-769a-4f21-9f91-a651ce963533",
   "metadata": {},
   "outputs": [],
   "source": [
    "my_list = [1,2,3]"
   ]
  },
  {
   "cell_type": "code",
   "execution_count": 2,
   "id": "ce9d4699-fe4d-407c-b563-e099c38cb527",
   "metadata": {},
   "outputs": [],
   "source": [
    "my_list2 = [1,'Victor',1.3]"
   ]
  },
  {
   "cell_type": "code",
   "execution_count": 4,
   "id": "2a3845af-2c90-4a52-89a5-f1f42252dbef",
   "metadata": {},
   "outputs": [
    {
     "name": "stdout",
     "output_type": "stream",
     "text": [
      "3\n"
     ]
    }
   ],
   "source": [
    "print(len(my_list))"
   ]
  },
  {
   "cell_type": "code",
   "execution_count": 5,
   "id": "9d2fcfc7-882e-4c7c-b9c4-af90aa348fab",
   "metadata": {},
   "outputs": [],
   "source": [
    "myList = ['one','two','three']"
   ]
  },
  {
   "cell_type": "code",
   "execution_count": 6,
   "id": "dc36e0e3-cdd7-4bfe-989f-cf575febaf93",
   "metadata": {},
   "outputs": [
    {
     "name": "stdout",
     "output_type": "stream",
     "text": [
      "one\n"
     ]
    }
   ],
   "source": [
    "print(myList[0])"
   ]
  },
  {
   "cell_type": "code",
   "execution_count": 7,
   "id": "a58af83b-1986-4b93-839b-34d279777e75",
   "metadata": {},
   "outputs": [
    {
     "name": "stdout",
     "output_type": "stream",
     "text": [
      "['two', 'three']\n"
     ]
    }
   ],
   "source": [
    "print(myList[1:])"
   ]
  },
  {
   "cell_type": "code",
   "execution_count": 8,
   "id": "ed49ca6e-6fc7-4536-bb4f-a77248f88652",
   "metadata": {},
   "outputs": [],
   "source": [
    "another_list = myList + my_list"
   ]
  },
  {
   "cell_type": "code",
   "execution_count": 9,
   "id": "80d17172-5649-4b48-8bb7-0c77bf6819f1",
   "metadata": {},
   "outputs": [
    {
     "name": "stdout",
     "output_type": "stream",
     "text": [
      "['one', 'two', 'three', 1, 2, 3]\n"
     ]
    }
   ],
   "source": [
    "print(another_list)"
   ]
  },
  {
   "cell_type": "code",
   "execution_count": null,
   "id": "3338834d-913c-404c-8072-bec72c4331d6",
   "metadata": {},
   "outputs": [],
   "source": []
  }
 ],
 "metadata": {
  "kernelspec": {
   "display_name": "Python 3 (ipykernel)",
   "language": "python",
   "name": "python3"
  },
  "language_info": {
   "codemirror_mode": {
    "name": "ipython",
    "version": 3
   },
   "file_extension": ".py",
   "mimetype": "text/x-python",
   "name": "python",
   "nbconvert_exporter": "python",
   "pygments_lexer": "ipython3",
   "version": "3.9.12"
  }
 },
 "nbformat": 4,
 "nbformat_minor": 5
}
