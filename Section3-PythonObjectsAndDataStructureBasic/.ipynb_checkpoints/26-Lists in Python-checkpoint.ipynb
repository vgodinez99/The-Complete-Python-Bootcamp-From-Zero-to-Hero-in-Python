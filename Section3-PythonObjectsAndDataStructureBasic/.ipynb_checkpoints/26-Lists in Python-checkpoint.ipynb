{
 "cells": [
  {
   "cell_type": "markdown",
   "id": "e2d65d7c-ce48-45a1-9540-331ab2a8178e",
   "metadata": {},
   "source": [
    "# Lists in Python"
   ]
  },
  {
   "cell_type": "code",
   "execution_count": null,
   "id": "af3cfd5f-769a-4f21-9f91-a651ce963533",
   "metadata": {},
   "outputs": [],
   "source": []
  }
 ],
 "metadata": {
  "kernelspec": {
   "display_name": "Python 3 (ipykernel)",
   "language": "python",
   "name": "python3"
  },
  "language_info": {
   "codemirror_mode": {
    "name": "ipython",
    "version": 3
   },
   "file_extension": ".py",
   "mimetype": "text/x-python",
   "name": "python",
   "nbconvert_exporter": "python",
   "pygments_lexer": "ipython3",
   "version": "3.9.12"
  }
 },
 "nbformat": 4,
 "nbformat_minor": 5
}
