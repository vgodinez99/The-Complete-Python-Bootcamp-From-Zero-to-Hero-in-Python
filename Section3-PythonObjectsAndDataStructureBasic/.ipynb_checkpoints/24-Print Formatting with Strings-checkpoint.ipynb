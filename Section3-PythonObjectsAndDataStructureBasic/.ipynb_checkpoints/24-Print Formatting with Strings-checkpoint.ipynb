{
 "cells": [
  {
   "cell_type": "markdown",
   "id": "7021b189-b222-43c8-a756-140c6054ec59",
   "metadata": {
    "tags": []
   },
   "source": [
    "# Print Formatting with Strings"
   ]
  },
  {
   "cell_type": "code",
   "execution_count": 1,
   "id": "4cbbd97d-940d-4d7a-aeea-335f028f9535",
   "metadata": {},
   "outputs": [],
   "source": [
    "my_name = 'Victor'"
   ]
  },
  {
   "cell_type": "code",
   "execution_count": 3,
   "id": "f7b8a2a2-fa69-42ab-a40d-214dc75a109d",
   "metadata": {},
   "outputs": [
    {
     "name": "stdout",
     "output_type": "stream",
     "text": [
      "Hello Victor\n"
     ]
    }
   ],
   "source": [
    "print('Hello ' + my_name)"
   ]
  },
  {
   "cell_type": "markdown",
   "id": "9f953391-a88a-4e49-8be9-7cd6f2579eab",
   "metadata": {
    "tags": []
   },
   "source": [
    "### Formatting with the .formart() method\n",
    "A good way to format objects into your strings for print statements is with the string .format() method. The syntax is: \n",
    "'String here {} then also here {}'.format('variable1','variable2')"
   ]
  },
  {
   "cell_type": "code",
   "execution_count": 4,
   "id": "da8a9b22-686c-420f-b371-189eb9a1185a",
   "metadata": {},
   "outputs": [
    {
     "name": "stdout",
     "output_type": "stream",
     "text": [
      "This is the example of an INSERT\n"
     ]
    }
   ],
   "source": [
    "print('This is the example of an {}'.format('INSERT'))"
   ]
  },
  {
   "cell_type": "code",
   "execution_count": 7,
   "id": "a42af40f-538c-4947-9f33-0099154d502b",
   "metadata": {},
   "outputs": [
    {
     "name": "stdout",
     "output_type": "stream",
     "text": [
      "The fox is brown and quick\n"
     ]
    }
   ],
   "source": [
    "#Always in the same order\n",
    "print('The {} is {} and {}'.format('fox','brown','quick'))"
   ]
  },
  {
   "cell_type": "code",
   "execution_count": 10,
   "id": "2ce4cdb3-d43c-4a6f-a2c5-408fa3b9ac90",
   "metadata": {},
   "outputs": [
    {
     "name": "stdout",
     "output_type": "stream",
     "text": [
      "The quick is fox and brown\n",
      "The quick is fox and brown\n"
     ]
    }
   ],
   "source": [
    "#You can change the order as you wish\n",
    "print('The {c} is {a} and {b}'.format(a='fox',b='brown',c='quick'))\n",
    "#Or with the number\n",
    "print('The {2} is {0} and {1}'.format('fox','brown','quick'))"
   ]
  },
  {
   "cell_type": "markdown",
   "id": "91ec1906-9334-4ea9-8274-333e1a7fa2ef",
   "metadata": {},
   "source": [
    "### Float formatting follows \"{value:width.precision f}\" "
   ]
  },
  {
   "cell_type": "code",
   "execution_count": 11,
   "id": "70b832b1-673c-459c-82a1-84775420a53d",
   "metadata": {},
   "outputs": [],
   "source": [
    "result = 100/777"
   ]
  },
  {
   "cell_type": "code",
   "execution_count": 12,
   "id": "a2a2b166-4e85-4568-acdb-ed119d8b6069",
   "metadata": {},
   "outputs": [
    {
     "name": "stdout",
     "output_type": "stream",
     "text": [
      "0.1287001287001287\n"
     ]
    }
   ],
   "source": [
    "print(result)"
   ]
  },
  {
   "cell_type": "code",
   "execution_count": 13,
   "id": "b3766504-6609-46f1-b8a9-8aa3410f27d7",
   "metadata": {},
   "outputs": [
    {
     "name": "stdout",
     "output_type": "stream",
     "text": [
      "The result is: 0.1287001287001287\n"
     ]
    }
   ],
   "source": [
    "print('The result is: {r}'.format(r=result))"
   ]
  },
  {
   "cell_type": "code",
   "execution_count": 17,
   "id": "ab376dce-9823-4c1a-bf95-4ba925ab3886",
   "metadata": {},
   "outputs": [
    {
     "name": "stdout",
     "output_type": "stream",
     "text": [
      "The result is: 0.129\n"
     ]
    }
   ],
   "source": [
    "print('The result is: {r:0.3f}'.format(r=result))"
   ]
  },
  {
   "cell_type": "markdown",
   "id": "9697c0b8-d78a-4133-992b-7db648425205",
   "metadata": {},
   "source": [
    "### New method"
   ]
  },
  {
   "cell_type": "code",
   "execution_count": 18,
   "id": "c6b84f0d-f540-46b6-b6d8-8dbaa03ac8fa",
   "metadata": {},
   "outputs": [],
   "source": [
    "name = 'Victor'"
   ]
  },
  {
   "cell_type": "code",
   "execution_count": 19,
   "id": "3e03cbbe-f902-4fe6-b71b-390e7befd58f",
   "metadata": {},
   "outputs": [
    {
     "name": "stdout",
     "output_type": "stream",
     "text": [
      "The name is Victor\n"
     ]
    }
   ],
   "source": [
    "print(f'The name is {name}')"
   ]
  },
  {
   "cell_type": "code",
   "execution_count": null,
   "id": "22abc874-5a69-437a-b18c-fc995f0105d7",
   "metadata": {},
   "outputs": [],
   "source": []
  }
 ],
 "metadata": {
  "kernelspec": {
   "display_name": "Python 3 (ipykernel)",
   "language": "python",
   "name": "python3"
  },
  "language_info": {
   "codemirror_mode": {
    "name": "ipython",
    "version": 3
   },
   "file_extension": ".py",
   "mimetype": "text/x-python",
   "name": "python",
   "nbconvert_exporter": "python",
   "pygments_lexer": "ipython3",
   "version": "3.9.12"
  }
 },
 "nbformat": 4,
 "nbformat_minor": 5
}
