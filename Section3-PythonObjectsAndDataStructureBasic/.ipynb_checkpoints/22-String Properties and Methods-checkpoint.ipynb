{
 "cells": [
  {
   "cell_type": "markdown",
   "id": "9cfbf7c3-45ce-424c-a38b-e416c654a99d",
   "metadata": {},
   "source": [
    "# String Properties and Methods"
   ]
  },
  {
   "cell_type": "markdown",
   "id": "0afac63f-1a30-4b29-baa2-6be6863ddf33",
   "metadata": {},
   "source": [
    "### Immutability"
   ]
  },
  {
   "cell_type": "code",
   "execution_count": 1,
   "id": "c783faed-0260-4858-9f00-bbdebbe9d898",
   "metadata": {},
   "outputs": [],
   "source": [
    "name = \"Victor\""
   ]
  },
  {
   "cell_type": "code",
   "execution_count": 2,
   "id": "a80b1d1d-cfa0-4650-bb0c-c31535a122d9",
   "metadata": {},
   "outputs": [
    {
     "ename": "TypeError",
     "evalue": "'str' object does not support item assignment",
     "output_type": "error",
     "traceback": [
      "\u001b[0;31m---------------------------------------------------------------------------\u001b[0m",
      "\u001b[0;31mTypeError\u001b[0m                                 Traceback (most recent call last)",
      "Input \u001b[0;32mIn [2]\u001b[0m, in \u001b[0;36m<cell line: 2>\u001b[0;34m()\u001b[0m\n\u001b[1;32m      1\u001b[0m \u001b[38;5;66;03m# Cannot do this\u001b[39;00m\n\u001b[0;32m----> 2\u001b[0m name[\u001b[38;5;241m0\u001b[39m] \u001b[38;5;241m=\u001b[39m \u001b[38;5;124m\"\u001b[39m\u001b[38;5;124mS\u001b[39m\u001b[38;5;124m\"\u001b[39m\n",
      "\u001b[0;31mTypeError\u001b[0m: 'str' object does not support item assignment"
     ]
    }
   ],
   "source": [
    "# Cannot do this\n",
    "name[0] = \"S\""
   ]
  },
  {
   "cell_type": "code",
   "execution_count": 3,
   "id": "1532280f-cac0-4496-98f4-37ac4b9e8a52",
   "metadata": {},
   "outputs": [
    {
     "name": "stdout",
     "output_type": "stream",
     "text": [
      "ictor\n"
     ]
    }
   ],
   "source": [
    "print(name[1:])"
   ]
  },
  {
   "cell_type": "code",
   "execution_count": 4,
   "id": "f4d45f7f-27d4-4ce6-b522-3c522ed137c5",
   "metadata": {},
   "outputs": [],
   "source": [
    "last_letters = name[1:]"
   ]
  },
  {
   "cell_type": "code",
   "execution_count": 5,
   "id": "7e6ba2a3-1385-4197-81f7-ec8a95370970",
   "metadata": {},
   "outputs": [],
   "source": [
    "new_name = \"P\" + last_letters"
   ]
  },
  {
   "cell_type": "code",
   "execution_count": 6,
   "id": "8d71c4bb-8b7a-4f46-bff2-cfade5aaeddd",
   "metadata": {},
   "outputs": [
    {
     "name": "stdout",
     "output_type": "stream",
     "text": [
      "Pictor\n"
     ]
    }
   ],
   "source": [
    "print(new_name)"
   ]
  },
  {
   "cell_type": "code",
   "execution_count": 7,
   "id": "021ed2f9-8a81-4f78-be9d-c6dc3c761538",
   "metadata": {},
   "outputs": [],
   "source": [
    "hworld = \"Hello world\""
   ]
  },
  {
   "cell_type": "code",
   "execution_count": 8,
   "id": "957fedeb-745e-4aa5-9dbe-24d0990de20c",
   "metadata": {},
   "outputs": [],
   "source": [
    "x = hworld + \" is it beautiful outside!\""
   ]
  },
  {
   "cell_type": "code",
   "execution_count": 9,
   "id": "1bab3fa2-7720-4b56-b0a5-16ec7d1876b9",
   "metadata": {},
   "outputs": [
    {
     "name": "stdout",
     "output_type": "stream",
     "text": [
      "Hello world is it beautiful outside!\n"
     ]
    }
   ],
   "source": [
    "print(x)"
   ]
  },
  {
   "cell_type": "code",
   "execution_count": 10,
   "id": "8b4ccf06-038d-454c-850d-e7109639fedb",
   "metadata": {},
   "outputs": [],
   "source": [
    "letter = \"z\""
   ]
  },
  {
   "cell_type": "code",
   "execution_count": 11,
   "id": "3728a95f-5634-47fd-b28c-5921190802fb",
   "metadata": {},
   "outputs": [
    {
     "name": "stdout",
     "output_type": "stream",
     "text": [
      "zzzzzzzzzz\n"
     ]
    }
   ],
   "source": [
    "print(letter * 10)"
   ]
  },
  {
   "cell_type": "code",
   "execution_count": 13,
   "id": "6712e885-a99e-461d-bd44-4fed4bc08af7",
   "metadata": {},
   "outputs": [
    {
     "ename": "TypeError",
     "evalue": "can only concatenate str (not \"int\") to str",
     "output_type": "error",
     "traceback": [
      "\u001b[0;31m---------------------------------------------------------------------------\u001b[0m",
      "\u001b[0;31mTypeError\u001b[0m                                 Traceback (most recent call last)",
      "Input \u001b[0;32mIn [13]\u001b[0m, in \u001b[0;36m<cell line: 2>\u001b[0;34m()\u001b[0m\n\u001b[1;32m      1\u001b[0m \u001b[38;5;66;03m# Cannot do this\u001b[39;00m\n\u001b[0;32m----> 2\u001b[0m letter \u001b[38;5;241m=\u001b[39m \u001b[38;5;124;43m\"\u001b[39;49m\u001b[38;5;124;43mz\u001b[39;49m\u001b[38;5;124;43m\"\u001b[39;49m\u001b[43m \u001b[49m\u001b[38;5;241;43m+\u001b[39;49m\u001b[43m \u001b[49m\u001b[38;5;241;43m3\u001b[39;49m\n",
      "\u001b[0;31mTypeError\u001b[0m: can only concatenate str (not \"int\") to str"
     ]
    }
   ],
   "source": [
    "# Cannot do this\n",
    "letter = \"z\" + 3"
   ]
  },
  {
   "cell_type": "code",
   "execution_count": 14,
   "id": "fc85b254-4167-4d91-afbb-7211bd60fd73",
   "metadata": {},
   "outputs": [],
   "source": [
    "# Addition\n",
    "a = 2 + 3"
   ]
  },
  {
   "cell_type": "code",
   "execution_count": 15,
   "id": "eff8dfc6-24d7-4c12-a78d-3a19aaa00fc1",
   "metadata": {},
   "outputs": [
    {
     "name": "stdout",
     "output_type": "stream",
     "text": [
      "5\n"
     ]
    }
   ],
   "source": [
    "print(a)"
   ]
  },
  {
   "cell_type": "code",
   "execution_count": 16,
   "id": "ca60a4a2-469c-4b28-b1fd-944150681179",
   "metadata": {},
   "outputs": [],
   "source": [
    "# Concatenation\n",
    "b = \"2\" + \"3\""
   ]
  },
  {
   "cell_type": "code",
   "execution_count": 17,
   "id": "4e634d5b-da36-40d9-a64c-83228bd4fdb5",
   "metadata": {},
   "outputs": [
    {
     "name": "stdout",
     "output_type": "stream",
     "text": [
      "23\n"
     ]
    }
   ],
   "source": [
    "print(b)"
   ]
  },
  {
   "cell_type": "code",
   "execution_count": 18,
   "id": "e8346c12-1e97-48a5-8584-c4e7d59b446e",
   "metadata": {},
   "outputs": [],
   "source": [
    "c = \"Hello World\" "
   ]
  },
  {
   "cell_type": "code",
   "execution_count": 20,
   "id": "7112df59-9314-4c77-9afe-e39fb0ddd77d",
   "metadata": {},
   "outputs": [
    {
     "name": "stdout",
     "output_type": "stream",
     "text": [
      "HELLO WORLD\n"
     ]
    }
   ],
   "source": [
    "print(c.upper())"
   ]
  },
  {
   "cell_type": "code",
   "execution_count": 21,
   "id": "35a27db4-f38f-49dc-97d9-6557b6b321ed",
   "metadata": {},
   "outputs": [
    {
     "name": "stdout",
     "output_type": "stream",
     "text": [
      "hello world\n"
     ]
    }
   ],
   "source": [
    "print(c.lower())"
   ]
  },
  {
   "cell_type": "code",
   "execution_count": 22,
   "id": "3b823cb0-c3cf-4cd3-a32e-74ba8d2f1d1f",
   "metadata": {},
   "outputs": [
    {
     "name": "stdout",
     "output_type": "stream",
     "text": [
      "['Hello', 'World']\n"
     ]
    }
   ],
   "source": [
    "print(c.split())"
   ]
  },
  {
   "cell_type": "code",
   "execution_count": 23,
   "id": "36075f48-ed97-439d-9aa1-88cd1ae1bc61",
   "metadata": {},
   "outputs": [],
   "source": [
    "d = 'Hi this is a string'"
   ]
  },
  {
   "cell_type": "code",
   "execution_count": 25,
   "id": "470952d8-7189-48af-9698-1e591025f045",
   "metadata": {},
   "outputs": [
    {
     "name": "stdout",
     "output_type": "stream",
     "text": [
      "['Hi', 'this', 'is', 'a', 'string']\n"
     ]
    }
   ],
   "source": [
    "print(d.split())"
   ]
  },
  {
   "cell_type": "code",
   "execution_count": 26,
   "id": "ba4b5be0-f0e3-4beb-b89e-b9bb01539368",
   "metadata": {},
   "outputs": [
    {
     "name": "stdout",
     "output_type": "stream",
     "text": [
      "['H', ' th', 's ', 's a str', 'ng']\n"
     ]
    }
   ],
   "source": [
    "print(d.split('i'))"
   ]
  },
  {
   "cell_type": "code",
   "execution_count": null,
   "id": "cda73311-93a2-4451-b167-33e08c987401",
   "metadata": {},
   "outputs": [],
   "source": []
  }
 ],
 "metadata": {
  "kernelspec": {
   "display_name": "Python 3 (ipykernel)",
   "language": "python",
   "name": "python3"
  },
  "language_info": {
   "codemirror_mode": {
    "name": "ipython",
    "version": 3
   },
   "file_extension": ".py",
   "mimetype": "text/x-python",
   "name": "python",
   "nbconvert_exporter": "python",
   "pygments_lexer": "ipython3",
   "version": "3.9.12"
  }
 },
 "nbformat": 4,
 "nbformat_minor": 5
}
