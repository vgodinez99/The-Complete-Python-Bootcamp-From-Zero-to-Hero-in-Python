{
 "cells": [
  {
   "cell_type": "markdown",
   "id": "14026892-0d2c-42f9-a78c-3e993a7390f6",
   "metadata": {},
   "source": [
    "# Indexing and Slicing with Strings"
   ]
  },
  {
   "cell_type": "code",
   "execution_count": 1,
   "id": "77ce01a0-6e16-4c3f-b551-2ab578a526cc",
   "metadata": {},
   "outputs": [],
   "source": [
    "my_string = ('Hello world')"
   ]
  },
  {
   "cell_type": "code",
   "execution_count": 2,
   "id": "ddbb7e10-c843-4b6a-847f-ceb8014de996",
   "metadata": {},
   "outputs": [
    {
     "name": "stdout",
     "output_type": "stream",
     "text": [
      "Hello world\n"
     ]
    }
   ],
   "source": [
    "print(my_string)"
   ]
  },
  {
   "cell_type": "code",
   "execution_count": 4,
   "id": "7ae7e3d4-e7f7-4566-9e56-fbac50a0cd7a",
   "metadata": {},
   "outputs": [
    {
     "name": "stdout",
     "output_type": "stream",
     "text": [
      "H\n"
     ]
    }
   ],
   "source": [
    "print(my_string[0])"
   ]
  },
  {
   "cell_type": "code",
   "execution_count": 5,
   "id": "cbf3a5e1-80ca-4444-b635-940c4647150b",
   "metadata": {},
   "outputs": [
    {
     "name": "stdout",
     "output_type": "stream",
     "text": [
      "l\n"
     ]
    }
   ],
   "source": [
    "print(my_string[3])"
   ]
  },
  {
   "cell_type": "code",
   "execution_count": 6,
   "id": "8f116618-6df5-4f98-ad9a-e38175be969a",
   "metadata": {},
   "outputs": [
    {
     "name": "stdout",
     "output_type": "stream",
     "text": [
      "d\n"
     ]
    }
   ],
   "source": [
    "print(my_string[-1])"
   ]
  },
  {
   "cell_type": "code",
   "execution_count": 8,
   "id": "ca6f4f56-ae47-4420-9698-9b28f883ea53",
   "metadata": {},
   "outputs": [
    {
     "name": "stdout",
     "output_type": "stream",
     "text": [
      "llo world\n"
     ]
    }
   ],
   "source": [
    "print(my_string[2:])"
   ]
  },
  {
   "cell_type": "code",
   "execution_count": 11,
   "id": "88dc2884-c524-4fd4-a5be-d25c682a34a8",
   "metadata": {},
   "outputs": [
    {
     "name": "stdout",
     "output_type": "stream",
     "text": [
      "Hello w\n"
     ]
    }
   ],
   "source": [
    "print(my_string[:7])"
   ]
  },
  {
   "cell_type": "code",
   "execution_count": 13,
   "id": "906926e5-5b85-43f2-a7ec-2d026122174f",
   "metadata": {},
   "outputs": [
    {
     "name": "stdout",
     "output_type": "stream",
     "text": [
      "llo wo\n"
     ]
    }
   ],
   "source": [
    "print(my_string[2:8])"
   ]
  },
  {
   "cell_type": "code",
   "execution_count": 14,
   "id": "013593ce-c41c-4a58-a5d5-b97b25a78564",
   "metadata": {},
   "outputs": [
    {
     "name": "stdout",
     "output_type": "stream",
     "text": [
      "Hlowrd\n"
     ]
    }
   ],
   "source": [
    "print(my_string[::2])"
   ]
  },
  {
   "cell_type": "code",
   "execution_count": 15,
   "id": "e6f841b4-2fd2-475a-a34f-c8446ef7dd0a",
   "metadata": {},
   "outputs": [
    {
     "name": "stdout",
     "output_type": "stream",
     "text": [
      "Hlwl\n"
     ]
    }
   ],
   "source": [
    "print(my_string[::3])"
   ]
  },
  {
   "cell_type": "code",
   "execution_count": 16,
   "id": "1eddbcd4-6e31-4ac0-81b2-4e0180e9ac88",
   "metadata": {},
   "outputs": [
    {
     "name": "stdout",
     "output_type": "stream",
     "text": [
      "low\n"
     ]
    }
   ],
   "source": [
    "print(my_string[2:8:2])"
   ]
  },
  {
   "cell_type": "code",
   "execution_count": 17,
   "id": "d0b655f9-a710-47e1-96a1-8e4588954aa0",
   "metadata": {},
   "outputs": [
    {
     "name": "stdout",
     "output_type": "stream",
     "text": [
      "dlrow olleH\n"
     ]
    }
   ],
   "source": [
    "print(my_string[::-1])"
   ]
  },
  {
   "cell_type": "code",
   "execution_count": null,
   "id": "16c363d0-a194-4ac6-965d-6418d7e71f3a",
   "metadata": {},
   "outputs": [],
   "source": []
  }
 ],
 "metadata": {
  "kernelspec": {
   "display_name": "Python 3 (ipykernel)",
   "language": "python",
   "name": "python3"
  },
  "language_info": {
   "codemirror_mode": {
    "name": "ipython",
    "version": 3
   },
   "file_extension": ".py",
   "mimetype": "text/x-python",
   "name": "python",
   "nbconvert_exporter": "python",
   "pygments_lexer": "ipython3",
   "version": "3.9.12"
  }
 },
 "nbformat": 4,
 "nbformat_minor": 5
}
